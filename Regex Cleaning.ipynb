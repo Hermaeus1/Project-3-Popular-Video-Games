{
 "cells": [
  {
   "cell_type": "markdown",
   "metadata": {},
   "source": [
    "## Cleaning and Reformatting the CSV"
   ]
  },
  {
   "cell_type": "code",
   "execution_count": 66,
   "metadata": {},
   "outputs": [
    {
     "data": {
      "text/plain": [
       "Index             int64\n",
       "Title            object\n",
       "Release_Date     object\n",
       "Developers       object\n",
       "Platforms        object\n",
       "Genres           object\n",
       "Rating          float64\n",
       "Plays            object\n",
       "Playing          object\n",
       "Backlogs         object\n",
       "Wishlist         object\n",
       "Lists            object\n",
       "Reviews          object\n",
       "dtype: object"
      ]
     },
     "execution_count": 66,
     "metadata": {},
     "output_type": "execute_result"
    }
   ],
   "source": [
    "# Load in the CSV\n",
    "import numpy as np\n",
    "import pandas as pd\n",
    "from pathlib import Path\n",
    "import re\n",
    "\n",
    "\n",
    "\n",
    "How = Path(\"Resources/backloggd_games.csv\")\n",
    "\n",
    "#Make sure the entries are strings\n",
    "data = pd.read_csv(How)\n",
    "data['Plays'] = data['Plays'].astype(str)\n",
    "data['Playing'] = data['Playing'].astype(str)\n",
    "data['Backlogs'] = data['Backlogs'].astype(str)\n",
    "data['Wishlist'] = data['Wishlist'].astype(str)\n",
    "data['Reviews'] = data['Reviews'].astype(str)\n",
    "data.dtypes\n"
   ]
  },
  {
   "cell_type": "code",
   "execution_count": 67,
   "metadata": {},
   "outputs": [],
   "source": [
    "#Function to Apply to the columns Plays, Playing, Reviews, etcetera\n",
    "def CheckConvert(x):\n",
    "    \n",
    "    if x[-1] == 'K':\n",
    "        x= re.sub(r\"K\", \"\",x)\n",
    "        x = float(x)*1000\n",
    "    else: \n",
    "        x = float(x) \n",
    "    return(x)\n"
   ]
  },
  {
   "cell_type": "code",
   "execution_count": 68,
   "metadata": {},
   "outputs": [],
   "source": [
    "#Apply the transform\n",
    "data['Plays'] = data['Plays'].apply(CheckConvert).astype(int)\n",
    "data['Playing'] = data['Playing'].apply(CheckConvert).astype(int)\n",
    "data['Backlogs'] = data['Backlogs'].apply(CheckConvert).astype(int)\n",
    "data['Wishlist'] = data['Wishlist'].apply(CheckConvert).astype(int)\n",
    "data['Lists'] = data['Lists'].apply(CheckConvert).astype(int)\n",
    "data['Reviews'] = data['Reviews'].apply(CheckConvert).astype(int)"
   ]
  },
  {
   "cell_type": "code",
   "execution_count": 69,
   "metadata": {},
   "outputs": [
    {
     "data": {
      "text/plain": [
       "Index             int64\n",
       "Title            object\n",
       "Release_Date     object\n",
       "Developers       object\n",
       "Platforms        object\n",
       "Genres           object\n",
       "Rating          float64\n",
       "Plays             int32\n",
       "Playing           int32\n",
       "Backlogs          int32\n",
       "Wishlist          int32\n",
       "Lists             int32\n",
       "Reviews           int32\n",
       "dtype: object"
      ]
     },
     "execution_count": 69,
     "metadata": {},
     "output_type": "execute_result"
    }
   ],
   "source": [
    "#Check the conversion works pt.2\n",
    "data.dtypes"
   ]
  },
  {
   "cell_type": "code",
   "execution_count": 79,
   "metadata": {},
   "outputs": [],
   "source": [
    "#Reformat the Developers, Platforms, and Genres Columns\n",
    "#Keep it easy and get rid of the extra quotations\n",
    "\n",
    "def QuotationTrim(x):\n",
    "        x= re.sub(\"\\\"{2}\",\"\",x)\n",
    "        return(x)\n",
    "\n",
    "data['Developers'] = data['Developers'].apply(QuotationTrim)\n",
    "data['Platforms'] = data['Platforms'].apply(QuotationTrim)\n",
    "data['Genres'] = data['Genres'].apply(QuotationTrim)\n"
   ]
  },
  {
   "cell_type": "code",
   "execution_count": 71,
   "metadata": {},
   "outputs": [],
   "source": [
    "#Reformat the Release_Date Column\n",
    "#Excel library\n",
    "import xlrd\n",
    "\n",
    "def DateConvert(d):\n",
    "    if d != \"TBD\": \n",
    "        d = pd.to_numeric(d)\n",
    "        datetime = xlrd.xldate_as_datetime(d,0)\n",
    "        dateobj = datetime.date()\n",
    "        d = dateobj.isoformat()\n",
    "        return(d)\n",
    "    else:\n",
    "        return(d)\n",
    "    \n",
    "data['Release_Date'] = data['Release_Date'].apply(DateConvert)"
   ]
  },
  {
   "cell_type": "code",
   "execution_count": 72,
   "metadata": {},
   "outputs": [
    {
     "data": {
      "text/html": [
       "<div>\n",
       "<style scoped>\n",
       "    .dataframe tbody tr th:only-of-type {\n",
       "        vertical-align: middle;\n",
       "    }\n",
       "\n",
       "    .dataframe tbody tr th {\n",
       "        vertical-align: top;\n",
       "    }\n",
       "\n",
       "    .dataframe thead th {\n",
       "        text-align: right;\n",
       "    }\n",
       "</style>\n",
       "<table border=\"1\" class=\"dataframe\">\n",
       "  <thead>\n",
       "    <tr style=\"text-align: right;\">\n",
       "      <th></th>\n",
       "      <th>Index</th>\n",
       "      <th>Title</th>\n",
       "      <th>Release_Date</th>\n",
       "      <th>Developers</th>\n",
       "      <th>Platforms</th>\n",
       "      <th>Genres</th>\n",
       "      <th>Rating</th>\n",
       "      <th>Plays</th>\n",
       "      <th>Playing</th>\n",
       "      <th>Backlogs</th>\n",
       "      <th>Wishlist</th>\n",
       "      <th>Lists</th>\n",
       "      <th>Reviews</th>\n",
       "    </tr>\n",
       "  </thead>\n",
       "  <tbody>\n",
       "    <tr>\n",
       "      <th>0</th>\n",
       "      <td>0</td>\n",
       "      <td>Elden Ring</td>\n",
       "      <td>2022-02-25</td>\n",
       "      <td>\"'FromSoftware', 'Bandai Namco Entertainment'\"</td>\n",
       "      <td>\"'Windows PC', 'PlayStation 4', 'Xbox One', 'P...</td>\n",
       "      <td>\"'Adventure', 'RPG'\"</td>\n",
       "      <td>4.5</td>\n",
       "      <td>21000</td>\n",
       "      <td>4100</td>\n",
       "      <td>5600</td>\n",
       "      <td>5500</td>\n",
       "      <td>4600</td>\n",
       "      <td>3000</td>\n",
       "    </tr>\n",
       "    <tr>\n",
       "      <th>1</th>\n",
       "      <td>1</td>\n",
       "      <td>The Legend of Zelda: Breath of the Wild</td>\n",
       "      <td>2017-03-03</td>\n",
       "      <td>\"'Nintendo', 'Nintendo EPD Production Group No...</td>\n",
       "      <td>\"'Wii U', 'Nintendo Switch'\"</td>\n",
       "      <td>\"'Adventure', 'Puzzle'\"</td>\n",
       "      <td>4.4</td>\n",
       "      <td>35000</td>\n",
       "      <td>3100</td>\n",
       "      <td>5600</td>\n",
       "      <td>3000</td>\n",
       "      <td>5100</td>\n",
       "      <td>3000</td>\n",
       "    </tr>\n",
       "    <tr>\n",
       "      <th>2</th>\n",
       "      <td>2</td>\n",
       "      <td>Hades</td>\n",
       "      <td>2018-12-07</td>\n",
       "      <td>\"'Supergiant Games'\"</td>\n",
       "      <td>\"'Windows PC', 'Mac', 'PlayStation 4', 'Xbox O...</td>\n",
       "      <td>\"'Adventure', 'Brawler', 'Indie', 'RPG'\"</td>\n",
       "      <td>4.3</td>\n",
       "      <td>25000</td>\n",
       "      <td>3500</td>\n",
       "      <td>7300</td>\n",
       "      <td>4000</td>\n",
       "      <td>3200</td>\n",
       "      <td>2100</td>\n",
       "    </tr>\n",
       "    <tr>\n",
       "      <th>3</th>\n",
       "      <td>3</td>\n",
       "      <td>Hollow Knight</td>\n",
       "      <td>2017-02-24</td>\n",
       "      <td>\"'Team Cherry'\"</td>\n",
       "      <td>\"'Windows PC', 'Mac', 'Linux', 'Nintendo Switch'\"</td>\n",
       "      <td>\"'Adventure', 'Indie', 'Platform'\"</td>\n",
       "      <td>4.4</td>\n",
       "      <td>25000</td>\n",
       "      <td>2700</td>\n",
       "      <td>9600</td>\n",
       "      <td>2600</td>\n",
       "      <td>3400</td>\n",
       "      <td>2100</td>\n",
       "    </tr>\n",
       "    <tr>\n",
       "      <th>4</th>\n",
       "      <td>4</td>\n",
       "      <td>Undertale</td>\n",
       "      <td>2015-09-15</td>\n",
       "      <td>\"'tobyfox', '8-4'\"</td>\n",
       "      <td>\"'Windows PC', 'Mac', 'Linux', 'PlayStation 4'...</td>\n",
       "      <td>\"'Adventure', 'Indie', 'RPG', 'Turn Based Stra...</td>\n",
       "      <td>4.2</td>\n",
       "      <td>32000</td>\n",
       "      <td>728</td>\n",
       "      <td>5700</td>\n",
       "      <td>2100</td>\n",
       "      <td>3900</td>\n",
       "      <td>2500</td>\n",
       "    </tr>\n",
       "  </tbody>\n",
       "</table>\n",
       "</div>"
      ],
      "text/plain": [
       "   Index                                    Title Release_Date  \\\n",
       "0      0                               Elden Ring   2022-02-25   \n",
       "1      1  The Legend of Zelda: Breath of the Wild   2017-03-03   \n",
       "2      2                                    Hades   2018-12-07   \n",
       "3      3                            Hollow Knight   2017-02-24   \n",
       "4      4                                Undertale   2015-09-15   \n",
       "\n",
       "                                          Developers  \\\n",
       "0     \"'FromSoftware', 'Bandai Namco Entertainment'\"   \n",
       "1  \"'Nintendo', 'Nintendo EPD Production Group No...   \n",
       "2                               \"'Supergiant Games'\"   \n",
       "3                                    \"'Team Cherry'\"   \n",
       "4                                 \"'tobyfox', '8-4'\"   \n",
       "\n",
       "                                           Platforms  \\\n",
       "0  \"'Windows PC', 'PlayStation 4', 'Xbox One', 'P...   \n",
       "1                       \"'Wii U', 'Nintendo Switch'\"   \n",
       "2  \"'Windows PC', 'Mac', 'PlayStation 4', 'Xbox O...   \n",
       "3  \"'Windows PC', 'Mac', 'Linux', 'Nintendo Switch'\"   \n",
       "4  \"'Windows PC', 'Mac', 'Linux', 'PlayStation 4'...   \n",
       "\n",
       "                                              Genres  Rating  Plays  Playing  \\\n",
       "0                               \"'Adventure', 'RPG'\"     4.5  21000     4100   \n",
       "1                            \"'Adventure', 'Puzzle'\"     4.4  35000     3100   \n",
       "2           \"'Adventure', 'Brawler', 'Indie', 'RPG'\"     4.3  25000     3500   \n",
       "3                 \"'Adventure', 'Indie', 'Platform'\"     4.4  25000     2700   \n",
       "4  \"'Adventure', 'Indie', 'RPG', 'Turn Based Stra...     4.2  32000      728   \n",
       "\n",
       "   Backlogs  Wishlist  Lists  Reviews  \n",
       "0      5600      5500   4600     3000  \n",
       "1      5600      3000   5100     3000  \n",
       "2      7300      4000   3200     2100  \n",
       "3      9600      2600   3400     2100  \n",
       "4      5700      2100   3900     2500  "
      ]
     },
     "execution_count": 72,
     "metadata": {},
     "output_type": "execute_result"
    }
   ],
   "source": [
    "#Check that the conversion works \n",
    "\n",
    "data.head()\n"
   ]
  },
  {
   "cell_type": "code",
   "execution_count": 81,
   "metadata": {},
   "outputs": [
    {
     "data": {
      "text/plain": [
       "Index             int64\n",
       "Title            object\n",
       "Release_Date     object\n",
       "Developers       object\n",
       "Platforms        object\n",
       "Genres           object\n",
       "Rating          float64\n",
       "Plays             int32\n",
       "Playing           int32\n",
       "Backlogs          int32\n",
       "Wishlist          int32\n",
       "Lists             int32\n",
       "Reviews           int32\n",
       "dtype: object"
      ]
     },
     "execution_count": 81,
     "metadata": {},
     "output_type": "execute_result"
    }
   ],
   "source": [
    "#Export a cleaned csv to update SQLite table\n",
    "data.to_csv('Games.csv',index=False)\n",
    "data.dtypes"
   ]
  }
 ],
 "metadata": {
  "kernelspec": {
   "display_name": "base",
   "language": "python",
   "name": "python3"
  },
  "language_info": {
   "codemirror_mode": {
    "name": "ipython",
    "version": 3
   },
   "file_extension": ".py",
   "mimetype": "text/x-python",
   "name": "python",
   "nbconvert_exporter": "python",
   "pygments_lexer": "ipython3",
   "version": "3.9.13"
  },
  "orig_nbformat": 4
 },
 "nbformat": 4,
 "nbformat_minor": 2
}
